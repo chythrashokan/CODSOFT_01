{
  "nbformat": 4,
  "nbformat_minor": 0,
  "metadata": {
    "colab": {
      "provenance": []
    },
    "kernelspec": {
      "name": "python3",
      "display_name": "Python 3"
    },
    "language_info": {
      "name": "python"
    }
  },
  "cells": [
    {
      "cell_type": "code",
      "execution_count": null,
      "metadata": {
        "colab": {
          "base_uri": "https://localhost:8080/"
        },
        "id": "AW4pl8jzMblM",
        "outputId": "4f325fcd-5e13-4df2-84b6-1ce9138c2871"
      },
      "outputs": [
        {
          "output_type": "stream",
          "name": "stdout",
          "text": [
            "🤖 Hello! I am your simple chatbot. Type 'bye' to exit.\n",
            "You: hi\n",
            "Bot: Hello! How can I help you today?\n",
            "You: how are you\n",
            "Bot: I'm just a bunch of code, but I'm doing great! How about you?\n",
            "You: fine\n",
            "Bot: I'm sorry, I didn't understand that. Can you please rephrase?\n",
            "You: bye\n",
            "Bot: Goodbye! Have a great day! 👋\n"
          ]
        }
      ],
      "source": [
        "def rule_based_chatbot():\n",
        "    print(\"🤖 Hello! I am your simple chatbot. Type 'bye' to exit.\")\n",
        "\n",
        "    while True:\n",
        "        user_input = input(\"You: \").lower()\n",
        "\n",
        "        if 'hello' in user_input or 'hi' in user_input:\n",
        "            print(\"Bot: Hello! How can I help you today?\")\n",
        "        elif 'how are you' in user_input:\n",
        "            print(\"Bot: I'm just a bunch of code, but I'm doing great! How about you?\")\n",
        "        elif 'your name' in user_input:\n",
        "            print(\"Bot: I’m a rule-based chatbot created for this task!\")\n",
        "        elif 'help' in user_input:\n",
        "            print(\"Bot: Sure, I can help. What do you need help with?\")\n",
        "        elif 'bye' in user_input:\n",
        "            print(\"Bot: Goodbye! Have a great day! 👋\")\n",
        "            break\n",
        "        else:\n",
        "            print(\"Bot: I'm sorry, I didn't understand that. Can you please rephrase?\")\n",
        "\n",
        "rule_based_chatbot()"
      ]
    },
    {
      "cell_type": "code",
      "source": [],
      "metadata": {
        "id": "gqtl72o2PRY8"
      },
      "execution_count": null,
      "outputs": []
    }
  ]
}